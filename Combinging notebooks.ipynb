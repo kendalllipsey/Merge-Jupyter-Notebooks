{
 "cells": [
  {
   "cell_type": "code",
   "execution_count": 17,
   "metadata": {},
   "outputs": [],
   "source": [
    "#Do your imports\n",
    "import json\n",
    "import os"
   ]
  },
  {
   "cell_type": "code",
   "execution_count": 18,
   "metadata": {},
   "outputs": [
    {
     "name": "stdout",
     "output_type": "stream",
     "text": [
      "['1.1-NumericOperations.ipynb', '1.2-Booleans.ipynb', '1.2.1-MoreExamples.ipynb', '1.3-FunctionsAndObjects.ipynb', '1.3.1-MoreObjects (1).ipynb', '1.3.1-MoreObjects.ipynb', '1.3.2-SlicingAndDictionaries (1).ipynb', '1.3.2-SlicingAndDictionaries.ipynb', '1.3.3-KeyboardInput (1).ipynb', '1.3.3-KeyboardInput.ipynb', '1.3.4-Lab.ipynb', '1.4-PythonIntrospection.ipynb', '1.5-UserDefinedFunctions.ipynb', '1.6-LabMatplotlibBasics.ipynb', '1.7-MoreLoops.ipynb', '1.8-MoreFunctions (1).ipynb', '2.1-NumpyIntro.ipynb', '2.2-NumpyArithmetic.ipynb', '2.3-MoreNumpy.ipynb', '2.4-MatplotlibObjects.ipynb', '2.5-MPLText.ipynb', '2.5.1-PastExercises.ipynb', '2.6-MPLImages.ipynb', '2.6.1-LookAtExercise (1).ipynb', '2.6.1-LookAtExercise.ipynb', '2.7-MPLPatchesAndPaths.ipynb', '3.1-SQLIntro.ipynb', '3.1.1-Notes (1).ipynb', '3.1.1-Notes.ipynb', '3.2-SQLContinued.ipynb', '3.3-SQLJoins.ipynb', '3.3.1-ExerciseSolutions.ipynb', '3.4-SQLandPythonFunctions.ipynb', '3.4.1-Exercise12.ipynb', '3.5-SQLWrap.ipynb', '4.1-Pandas1.ipynb', '4.2-Pandas2.ipynb', '4.3-Pandas3.ipynb', '4.4-Pandas4.ipynb', '4.4.1-Exercises.ipynb', '4.5-Pandas5.ipynb', '4.6-Pandas6-MovieRatings.ipynb', '4.7-PandasPlot.ipynb', '4.7.1-ExerciseSolutions.ipynb', '5.1-RegularExpressions (1).ipynb', '5.1-RegularExpressions.ipynb', '5.2-RegularExpressions2.ipynb', '5.3-RegularExpressionsInPandas.ipynb', '5.5-UnicodeAndUtf8.ipynb', '6.1-BusData.ipynb', '6.2-Names.ipynb', '8.1-RegressionIntro.ipynb', '8.2-Regression2.ipynb', '8.2.1-MakePoints.ipynb', '8.3-Regression3.ipynb', '8.4-Coins.ipynb', 'Untitled.ipynb', 'Untitled1.ipynb']\n"
     ]
    }
   ],
   "source": [
    "#List comprehension to extract jupyter notebook files\n",
    "notebooks_to_merge = [file for file in os.listdir(os.getcwd()) if file.endswith('.ipynb')]\n",
    "\n",
    "#Sort the notebooks to make an ordered merge\n",
    "notebooks_to_merge.sort()\n",
    "\n",
    "#This is a sanity check- make sure you have the notebooks you want merged\n",
    "print(notebooks_to_merge)"
   ]
  },
  {
   "cell_type": "code",
   "execution_count": 26,
   "metadata": {},
   "outputs": [
    {
     "name": "stdout",
     "output_type": "stream",
     "text": [
      "generated file:\"combined.ipynb\".\n"
     ]
    },
    {
     "data": {
      "text/plain": [
       "'C:\\\\Users\\\\kdl8569\\\\combined.ipynb'"
      ]
     },
     "execution_count": 26,
     "metadata": {},
     "output_type": "execute_result"
    }
   ],
   "source": [
    "def combine_ipynb_files(list_of_notebooks, combined_file_name):\n",
    "    '''\n",
    "    Function takes a list_of_notebooks (created above) and merges them. \n",
    "    combined_file_name is what you want your merge to be titled \n",
    "    '''\n",
    "    with open (notebooks_to_merge[0], mode='r', encoding = 'utf-8') as f:\n",
    "        a = json.load (f)\n",
    "      \n",
    "    for notebook in notebooks_to_merge[1:]:\n",
    "        with open (notebook, mode = 'r', encoding = 'utf-8') as f:\n",
    "            b = json.load(f)\n",
    "            a['cells'].extend (b['cells'])\n",
    "        \n",
    "    with open(combined_file_name, mode='w', encoding='utf-8') as f:\n",
    "        json.dump(a, f)\n",
    "    \n",
    "    print('generated file:\"{}\".'.format(combined_file_name))\n",
    "    \n",
    "    return (os.path.realpath(combined_file_name))\n",
    "\n",
    "combine_ipynb_files(notebooks_to_merge,\"combined.ipynb\")\n",
    "        "
   ]
  },
  {
   "cell_type": "code",
   "execution_count": null,
   "metadata": {},
   "outputs": [],
   "source": []
  }
 ],
 "metadata": {
  "kernelspec": {
   "display_name": "Python 3",
   "language": "python",
   "name": "python3"
  },
  "language_info": {
   "codemirror_mode": {
    "name": "ipython",
    "version": 3
   },
   "file_extension": ".py",
   "mimetype": "text/x-python",
   "name": "python",
   "nbconvert_exporter": "python",
   "pygments_lexer": "ipython3",
   "version": "3.7.3"
  }
 },
 "nbformat": 4,
 "nbformat_minor": 2
}
